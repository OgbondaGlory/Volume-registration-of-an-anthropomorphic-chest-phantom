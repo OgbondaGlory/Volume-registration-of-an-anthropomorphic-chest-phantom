{
 "cells": [
  {
   "cell_type": "markdown",
   "metadata": {},
   "source": [
    "# Classical Techniques Segmentation and Registration (Rigid and Non-Rigid)"
   ]
  },
  {
   "cell_type": "code",
   "execution_count": null,
   "metadata": {},
   "outputs": [],
   "source": [
    "import sys\n",
    "import os\n",
    "import numpy as np\n",
    "import matplotlib.pyplot as plt\n",
    "# import ipyvolume as ipv\n",
    "import SimpleITK as sitk\n",
    "# import ipywidgets as widgets\n",
    "from SimpleITK import DemonsRegistrationFilter"
   ]
  },
  {
   "cell_type": "markdown",
   "metadata": {},
   "source": [
    "Lung Segmentation"
   ]
  },
  {
   "cell_type": "code",
   "execution_count": null,
   "metadata": {},
   "outputs": [],
   "source": [
    "def segment_lung(image):\n",
    "    # Apply a threshold to separate lung pixels from others\n",
    "    thresh_filter = sitk.ThresholdImageFilter()\n",
    "    thresh_filter.SetLower(-1000)\n",
    "    thresh_filter.SetUpper(-400)\n",
    "    thresh_img = thresh_filter.Execute(image)\n",
    "\n",
    "    # Apply morphological opening\n",
    "    morph_filter = sitk.BinaryMorphologicalOpeningImageFilter()\n",
    "    morph_img = morph_filter.Execute(thresh_img)\n",
    "\n",
    "    # Apply Connected Component Labeling\n",
    "    cc_filter = sitk.ConnectedComponentImageFilter()\n",
    "    cc_img = cc_filter.Execute(morph_img)\n",
    "\n",
    "    # Get the two largest components (assumed to be the lungs)\n",
    "    relabel_filter = sitk.RelabelComponentImageFilter()\n",
    "    relabel_img = relabel_filter.Execute(cc_img)\n",
    "\n",
    "    # Get labels array\n",
    "    labels_array = sitk.GetArrayFromImage(relabel_img)\n",
    "\n",
    "    # Count the number of pixels in each region and sort by size\n",
    "    unique, counts = np.unique(labels_array, return_counts=True)\n",
    "    sorted_counts = sorted(zip(counts, unique), reverse=True)\n",
    "\n",
    "    # Keep the two largest components (excluding background)\n",
    "    lung_mask = np.isin(labels_array, [label for _, label in sorted_counts[1:3]])\n",
    "\n",
    "    # Convert to SimpleITK image for further processing\n",
    "    lung_mask_sitk = sitk.GetImageFromArray(lung_mask.astype(np.uint8))\n",
    "    lung_mask_sitk.CopyInformation(image)\n",
    "\n",
    "    return lung_mask_sitk"
   ]
  },
  {
   "cell_type": "markdown",
   "metadata": {},
   "source": [
    "Bone Segmentation "
   ]
  },
  {
   "cell_type": "code",
   "execution_count": null,
   "metadata": {},
   "outputs": [],
   "source": [
    "def segment_bones(image):\n",
    "    # Convert the SimpleITK image to a numpy array\n",
    "    image_array = sitk.GetArrayFromImage(image)\n",
    "\n",
    "    # Use thresholding to identify the bones\n",
    "    # Bones have higher HU than soft tissues or air\n",
    "    # This range might need adjustment depending on the specific scan\n",
    "    bone_threshold = 300\n",
    "    bone_mask = image_array > bone_threshold\n",
    "\n",
    "    # Convert to SimpleITK image for further processing\n",
    "    bone_mask_sitk = sitk.GetImageFromArray(bone_mask.astype(np.uint8))\n",
    "    bone_mask_sitk.CopyInformation(image)\n",
    "\n",
    "    return bone_mask_sitk"
   ]
  },
  {
   "cell_type": "markdown",
   "metadata": {},
   "source": [
    "Loading Dicome Series"
   ]
  },
  {
   "cell_type": "code",
   "execution_count": null,
   "metadata": {},
   "outputs": [],
   "source": [
    "def load_dicom_series(directory_path):\n",
    "    reader = sitk.ImageSeriesReader()\n",
    "#     print(directory_path)\n",
    "#     dicom_names = files = os.listdir(directory_path).sort()\n",
    "#     reader.SetFileNames(dicom_names)\n",
    "    dicom_names = reader.GetGDCMSeriesFileNames(directory_path)\n",
    "#     print(dicom_names)\n",
    "    reader.SetFileNames(dicom_names)\n",
    "    image = reader.Execute()\n",
    "    return image"
   ]
  },
  {
   "cell_type": "markdown",
   "metadata": {},
   "source": [
    "Displaying the images"
   ]
  },
  {
   "cell_type": "code",
   "execution_count": null,
   "metadata": {},
   "outputs": [],
   "source": [
    "def display_images(image, title, montage_slices=10):\n",
    "    # Convert the SimpleITK image to a numpy array\n",
    "    image_array = sitk.GetArrayFromImage(image)\n",
    "\n",
    "    # Normalize to 0-255\n",
    "    image_array = ((image_array - image_array.min()) * (1/(image_array.max() - image_array.min()) * 255)).astype('uint8')\n",
    "\n",
    "#     # 3D visualization using ipyvolume\n",
    "#     ipv.figure()\n",
    "#     ipv.volshow(image_array, level=[0.25, 0.75], opacity=0.03, level_width=0.1, data_min=0, data_max=255)\n",
    "#     fig3d = ipv.gcc()\n",
    "\n",
    "#     # Create a layout with a title\n",
    "#     title_widget = widgets.HTML(f'<h2>{title} - 3D View</h2>')\n",
    "#     layout = widgets.VBox([title_widget, fig3d])\n",
    "#     display(layout)\n",
    "\n",
    "    # Montage of slices using matplotlib\n",
    "    fig = plt.figure(figsize=(10, 2))\n",
    "    fig.suptitle(title + \" - Slice View\")\n",
    "    slice_interval = image_array.shape[0] // montage_slices\n",
    "    for i in range(montage_slices):\n",
    "        ax = fig.add_subplot(1, montage_slices, i + 1)\n",
    "        ax.imshow(image_array[i * slice_interval], cmap='gray')\n",
    "        plt.axis('off')\n",
    "    plt.show()"
   ]
  },
  {
   "cell_type": "markdown",
   "metadata": {},
   "source": [
    "Loading the Ct_Scan Data of Phantom and Patient"
   ]
  },
  {
   "cell_type": "code",
   "execution_count": null,
   "metadata": {},
   "outputs": [],
   "source": [
    "# Loading the Data\n",
    "if len(sys.argv) != 3:\n",
    "    raise IOError(\"Invalid cmd line,\\nUsage: \" + sys.argv[0] + \"   DICOM_PATH   OUTPUT_PATH\")\n",
    "\n",
    "data_path = r\"Phantom_CT_Scan\"\n",
    "moving_image_path = r\"Phantom_CT_Scan\"\n",
    "fixed_image_path = sys.argv[1]\n",
    "output_path = sys.argv[2]\n",
    "\n",
    "if not os.path.exists(output_path):\n",
    "    os.mkdir(output_path)\n",
    "\n",
    "\n",
    "# List all files in the directory\n",
    "files = os.listdir(data_path)\n",
    "print(files)\n",
    "\n",
    "# Load the DICOM images\n",
    "ct_image = load_dicom_series(data_path)"
   ]
  },
  {
   "cell_type": "markdown",
   "metadata": {},
   "source": [
    "Perform Lung Segmentation"
   ]
  },
  {
   "cell_type": "code",
   "execution_count": null,
   "metadata": {},
   "outputs": [],
   "source": [
    "# Perform lung segmentation\n",
    "lung_mask = segment_lung(ct_image)\n",
    "\n",
    "# Convert the SimpleITK image to a numpy array for visualization\n",
    "# lung_mask_array = sitk.GetArrayFromImage(lung_mask)\n",
    "\n",
    "# Display segmented lungs in 3D\n",
    "display_images(lung_mask, \"Segmented Lungs\")"
   ]
  },
  {
   "cell_type": "markdown",
   "metadata": {},
   "source": [
    "Perform Bone Segmentation"
   ]
  },
  {
   "cell_type": "code",
   "execution_count": null,
   "metadata": {},
   "outputs": [],
   "source": [
    "# Perform bone segmentation\n",
    "bone_mask = segment_bones(ct_image)\n",
    "\n",
    "## Display the bone segmentation in 3D and slices\n",
    "display_images(bone_mask, \"Segmented Bones\")"
   ]
  },
  {
   "cell_type": "markdown",
   "metadata": {},
   "source": [
    "Display the Data"
   ]
  },
  {
   "cell_type": "code",
   "execution_count": null,
   "metadata": {},
   "outputs": [],
   "source": [
    "# Paths to the DICOM directories\n",
    "\n",
    "# Load the DICOM images\n",
    "fixed_image = load_dicom_series(fixed_image_path)\n",
    "moving_image = load_dicom_series(moving_image_path)\n",
    "\n",
    "reader = sitk.ImageFileReader()\n",
    "writer = sitk.ImageFileWriter()\n",
    "\n",
    "if not os.path.exists(output_path + \"/target.mha\"):\n",
    "    writer.SetFileName(output_path + \"/target.mha\")\n",
    "    writer.Execute(fixed_image)\n",
    "\n",
    "if not os.path.exists(output_path + \"/source.mha\"):\n",
    "    writer.SetFileName(output_path + \"/source.mha\")\n",
    "    writer.Execute(moving_image)\n",
    "\n",
    "# Display the images with appropriate titles\n",
    "display_images(fixed_image, \"Fixed Image patient's CT scan\")\n",
    "display_images(moving_image, \"Moving Image CT scan of the phantom\")"
   ]
  },
  {
   "cell_type": "markdown",
   "metadata": {},
   "source": [
    "## Rigid Registration "
   ]
  },
  {
   "cell_type": "code",
   "execution_count": null,
   "metadata": {},
   "outputs": [],
   "source": [
    "if os.path.exists(output_path + \"/rigid_transformation.tfm\") and os.path.exists(output_path + \"/rigid_registration.mha\"):\n",
    "    final_transform_v1 = sitk.ReadTransform(output_path + \"/rigid_transformation.tfm\")\n",
    "\n",
    "    reader.SetFileName(output_path + \"/rigid_registration.mha\")\n",
    "    resampled_moving_image = reader.Execute()\n",
    "\n",
    "else:\n",
    "    # Apply the transformation\n",
    "    registration_method = sitk.ImageRegistrationMethod()\n",
    "    # registration_method.SetMetricAsMeanSquares()\n",
    "    registration_method.SetMetricAsCorrelation()\n",
    "    registration_method.SetOptimizerAsGradientDescent(learningRate=1.0, numberOfIterations=100, convergenceMinimumValue=1e-6, convergenceWindowSize=10)\n",
    "    registration_method.SetInterpolator(sitk.sitkLinear)\n",
    "\n",
    "    initial_transform = sitk.CenteredTransformInitializer(fixed_image,\n",
    "                                                          moving_image,\n",
    "                                                          sitk.Euler3DTransform(),\n",
    "                                                          sitk.CenteredTransformInitializerFilter.GEOMETRY)\n",
    "\n",
    "    registration_method.SetInitialTransform(initial_transform, inPlace=False)\n",
    "    final_transform_v1 = registration_method.Execute(sitk.Cast(fixed_image, sitk.sitkFloat32),\n",
    "                                                     sitk.Cast(moving_image, sitk.sitkFloat32))\n",
    "\n",
    "    sitk.WriteTransform(final_transform_v1, output_path + \"/rigid_transformation.tfm\")\n",
    "\n",
    "    # Resample the moving image onto the fixed image's grid\n",
    "    resampler = sitk.ResampleImageFilter()\n",
    "    resampler.SetReferenceImage(fixed_image)\n",
    "    resampler.SetTransform(final_transform_v1)\n",
    "    resampled_moving_image = resampler.Execute(moving_image)\n",
    "\n",
    "    writer.SetFileName(output_path + \"/rigid_registration.mha\")\n",
    "    writer.Execute(resampled_moving_image)"
   ]
  },
  {
   "cell_type": "code",
   "execution_count": null,
   "metadata": {},
   "outputs": [],
   "source": [
    "# Display the images after transformation\n",
    "display_images(fixed_image, \"Fixed Image after Transformation\")\n",
    "display_images(resampled_moving_image, \"Resampled Moving Image after Transformation\")"
   ]
  },
  {
   "cell_type": "markdown",
   "metadata": {},
   "source": [
    "## Non-Rigid Registration"
   ]
  },
  {
   "cell_type": "markdown",
   "metadata": {},
   "source": [
    "B-Spline"
   ]
  },
  {
   "cell_type": "code",
   "execution_count": null,
   "metadata": {},
   "outputs": [],
   "source": [
    "if os.path.exists(output_path + \"/deformable_transformation.tfm\") and os.path.exists(output_path + \"/composite_transform.tfm\") and os.path.exists(output_path + \"/deformable_registration.mha\"):\n",
    "    final_deformable_transform = sitk.ReadTransform(output_path + \"/deformable_transformation.mha\")\n",
    "    composite_transform = sitk.ReadTransform(output_path + \"/composite_transform.mha\")\n",
    "\n",
    "    reader.SetFileName(output_path + \"/deformable_registration.mha\")\n",
    "    resampled_moving_image = reader.Execute()\n",
    "\n",
    "else:\n",
    "    # Now set up the deformable registration (B-spline)\n",
    "    deformable_registration_method = sitk.ImageRegistrationMethod()\n",
    "    # deformable_registration_method.SetMetricAsMeanSquares()\n",
    "    deformable_registration_method.SetMetricAsCorrelation()\n",
    "    deformable_registration_method.SetOptimizerAsLBFGSB(gradientConvergenceTolerance=1e-5, numberOfIterations=100)\n",
    "    deformable_registration_method.SetInterpolator(sitk.sitkLinear)\n",
    "\n",
    "    # Initialize the B-spline transform\n",
    "    transform_domain_physical_dim_size = fixed_image.GetSize()\n",
    "    transform_domain_mesh_size = [size//8 for size in transform_domain_physical_dim_size] # Arbitrary mesh size, you might need to adjust this\n",
    "    initial_deformable_transform = sitk.BSplineTransformInitializer(image1=fixed_image,\n",
    "                                                                    transformDomainMeshSize=transform_domain_mesh_size, order=3)\n",
    "\n",
    "    deformable_registration_method.SetInitialTransform(initial_deformable_transform)\n",
    "    final_deformable_transform = deformable_registration_method.Execute(sitk.Cast(fixed_image, sitk.sitkFloat32),\n",
    "                                                                        sitk.Cast(resampled_moving_image, sitk.sitkFloat32))\n",
    "\n",
    "    # Combine the affine and deformable transforms\n",
    "    composite_transform = sitk.Transform(fixed_image.GetDimension(), sitk.sitkComposite)\n",
    "    composite_transform.AddTransform(final_transform_v1)\n",
    "    composite_transform.AddTransform(final_deformable_transform)\n",
    "\n",
    "    sitk.WriteTransform(final_deformable_transform, output_path + \"/deformable_transformation.tfm\")\n",
    "    sitk.WriteTransform(composite_transform, output_path + \"/composite_transform.tfm\")\n",
    "\n",
    "    # Resample the moving image onto the fixed image's grid using the composite transform\n",
    "    resampler = sitk.ResampleImageFilter()\n",
    "    resampler.SetReferenceImage(fixed_image)\n",
    "    resampler.SetTransform(composite_transform)\n",
    "    resampled_moving_image = resampler.Execute(moving_image)\n",
    "\n",
    "    writer.SetFileName(output_path + \"/deformable_registration.mha\")\n",
    "    writer.Execute(resampled_moving_image)\n",
    "\n",
    "# Display the images after transformation\n",
    "display_images(fixed_image, \"Fixed Image after Transformation\")\n",
    "display_images(resampled_moving_image, \"Resampled Moving Image after Transformation\")\n"
   ]
  },
  {
   "cell_type": "markdown",
   "metadata": {},
   "source": [
    "Demons Algorithim"
   ]
  },
  {
   "cell_type": "code",
   "execution_count": null,
   "metadata": {},
   "outputs": [],
   "source": [
    "# Configure and run the Demons Registration\n",
    "def apply_demons_algorithm(fixed_image, moving_image, iterations=50):\n",
    "    demons_filter = DemonsRegistrationFilter()\n",
    "    demons_filter.SetNumberOfIterations(iterations)\n",
    "    demons_transform = demons_filter.Execute(fixed_image, moving_image)\n",
    "    return demons_transform\n",
    "\n",
    "# Set the path for the output demons transformation\n",
    "output_demons_transform_path = os.path.join(output_path, \"demons_transformation.tfm\")\n",
    "\n",
    "# Check if the transform already exists. If not, compute it.\n",
    "if os.path.exists(output_demons_transform_path):\n",
    "    demons_transform = sitk.ReadTransform(output_demons_transform_path)\n",
    "else:\n",
    "    demons_transform = apply_demons_algorithm(fixed_image, resampled_moving_image)\n",
    "    sitk.WriteTransform(demons_transform, output_demons_transform_path)\n",
    "\n",
    "# Resample the moving image onto the fixed image's grid using the demons transform\n",
    "resampler = sitk.ResampleImageFilter()\n",
    "resampler.SetReferenceImage(fixed_image)\n",
    "resampler.SetTransform(demons_transform)\n",
    "resampled_moving_image_demons = resampler.Execute(moving_image)\n",
    "\n",
    "# Save the resampled image\n",
    "output_resampled_image_path = os.path.join(output_path, \"resampled_moving_image_demons.mha\")\n",
    "writer.SetFileName(output_resampled_image_path)\n",
    "writer.Execute(resampled_moving_image_demons)\n",
    "\n",
    "# Display the images after transformation\n",
    "display_images(fixed_image, \"Fixed Image after Demons Transformation\")\n",
    "display_images(resampled_moving_image_demons, \"Resampled Moving Image after Demons Transformation\")"
   ]
  }
 ],
 "metadata": {
  "kernelspec": {
   "display_name": "Python 3",
   "language": "python",
   "name": "python3"
  },
  "language_info": {
   "codemirror_mode": {
    "name": "ipython",
    "version": 3
   },
   "file_extension": ".py",
   "mimetype": "text/x-python",
   "name": "python",
   "nbconvert_exporter": "python",
   "pygments_lexer": "ipython3",
   "version": "3.10.11"
  },
  "orig_nbformat": 4
 },
 "nbformat": 4,
 "nbformat_minor": 2
}
