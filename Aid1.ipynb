{
 "cells": [
  {
   "cell_type": "code",
   "execution_count": null,
   "metadata": {},
   "outputs": [],
   "source": [
    "import os\n",
    "import pydicom\n",
    "import cv2\n",
    "import numpy as np\n",
    "\n",
    "# Your current path to the image\n",
    "data_path = r\"C:\\Users\\HP\\Documents\\GitHub\\3D-3D_Image_Registration\\SE000003\"\n",
    "\n",
    "# Adjust this to point to one specific image file\n",
    "image_path = os.path.join(data_path, \"CT000000\")\n",
    "\n",
    "# Read DICOM file\n",
    "ds = pydicom.dcmread(image_path)\n",
    "\n",
    "# Print some attributes\n",
    "print(f\"Patient ID: {ds.PatientID}\")\n",
    "print(f\"Modality: {ds.Modality}\")\n",
    "print(f\"Image Size: {ds.Rows} x {ds.Columns}\")\n",
    "\n",
    "# Preprocessing\n",
    "image = ds.pixel_array  # Get pixel data\n",
    "image = cv2.normalize(image, None, 0, 255, cv2.NORM_MINMAX)  # Normalize pixel values between 0 and 255\n",
    "\n",
    "# Show the image\n",
    "import matplotlib.pyplot as plt\n",
    "plt.imshow(image, cmap=plt.cm.bone)\n",
    "plt.show()\n"
   ]
  }
 ],
 "metadata": {
  "language_info": {
   "name": "python"
  },
  "orig_nbformat": 4
 },
 "nbformat": 4,
 "nbformat_minor": 2
}
