{
 "cells": [
  {
   "cell_type": "code",
   "execution_count": null,
   "metadata": {},
   "outputs": [],
   "source": []
  },
  {
   "cell_type": "code",
   "execution_count": 3,
   "metadata": {},
   "outputs": [
    {
     "ename": "ModuleNotFoundError",
     "evalue": "No module named 'voxelmorph.pytorch'",
     "output_type": "error",
     "traceback": [
      "\u001b[1;31m---------------------------------------------------------------------------\u001b[0m",
      "\u001b[1;31mModuleNotFoundError\u001b[0m                       Traceback (most recent call last)",
      "Cell \u001b[1;32mIn[3], line 8\u001b[0m\n\u001b[0;32m      6\u001b[0m \u001b[39mfrom\u001b[39;00m \u001b[39mtorch\u001b[39;00m\u001b[39m.\u001b[39;00m\u001b[39mutils\u001b[39;00m\u001b[39m.\u001b[39;00m\u001b[39mdata\u001b[39;00m \u001b[39mimport\u001b[39;00m Dataset, DataLoader\n\u001b[0;32m      7\u001b[0m \u001b[39mfrom\u001b[39;00m \u001b[39mscipy\u001b[39;00m\u001b[39m.\u001b[39;00m\u001b[39mndimage\u001b[39;00m \u001b[39mimport\u001b[39;00m map_coordinates\n\u001b[1;32m----> 8\u001b[0m \u001b[39mfrom\u001b[39;00m \u001b[39mvoxelmorph\u001b[39;00m\u001b[39m.\u001b[39;00m\u001b[39mpytorch\u001b[39;00m\u001b[39m.\u001b[39;00m\u001b[39mnetworks\u001b[39;00m \u001b[39mimport\u001b[39;00m VxmDense\n\u001b[0;32m      9\u001b[0m \u001b[39mfrom\u001b[39;00m \u001b[39mtorch\u001b[39;00m\u001b[39m.\u001b[39;00m\u001b[39moptim\u001b[39;00m \u001b[39mimport\u001b[39;00m Adam\n\u001b[0;32m     11\u001b[0m \u001b[39mclass\u001b[39;00m \u001b[39mCTScanDataset\u001b[39;00m(Dataset):\n",
      "\u001b[1;31mModuleNotFoundError\u001b[0m: No module named 'voxelmorph.pytorch'"
     ]
    }
   ],
   "source": [
    "import os\n",
    "import torch\n",
    "import numpy as np\n",
    "import SimpleITK as sitk\n",
    "import ipyvolume as ipv\n",
    "from torch.utils.data import Dataset, DataLoader\n",
    "from scipy.ndimage import map_coordinates\n",
    "from voxelmorph.pytorch.networks import VxmDense\n",
    "from torch.optim import Adam\n",
    "\n",
    "class CTScanDataset(Dataset):\n",
    "    def __init__(self, directory_path):\n",
    "        self.files = [os.path.join(directory_path, f) for f in os.listdir(directory_path) if f.endswith('.dcm')]\n",
    "\n",
    "    def __len__(self):\n",
    "        return len(self.files)\n",
    "\n",
    "    def __getitem__(self, idx):\n",
    "        image = sitk.ReadImage(self.files[idx])\n",
    "        image_array = sitk.GetArrayFromImage(image)\n",
    "        image_array = (image_array - image_array.min()) / (image_array.max() - image_array.min())\n",
    "        return image_array\n",
    "\n",
    "class CTScanPairDataset(Dataset):\n",
    "    def __init__(self, pairs):\n",
    "        self.pairs = pairs\n",
    "\n",
    "    def __len__(self):\n",
    "        return len(self.pairs)\n",
    "\n",
    "    def __getitem__(self, idx):\n",
    "        fixed_image, moving_image = self.pairs[idx]\n",
    "        fixed_image = preprocess(fixed_image)\n",
    "        moving_image = preprocess(moving_image)\n",
    "        return fixed_image, moving_image\n",
    "\n",
    "def load_data_for_training(directory_path):\n",
    "    dataset = CTScanDataset(directory_path)\n",
    "    pairs = [(dataset[i], dataset[i + 1]) for i in range(len(dataset) - 1)]\n",
    "    return CTScanPairDataset(pairs)\n",
    "\n",
    "def preprocess(image_array):\n",
    "    image_array = image_array[np.newaxis, ...]\n",
    "    image_tensor = torch.from_numpy(image_array)\n",
    "    return image_tensor\n",
    "\n",
    "def apply_displacement_field(moving_image_array, displacement_field):\n",
    "    coords = np.mgrid[0:moving_image_array.shape[0], 0:moving_image_array.shape[1], 0:moving_image_array.shape[2]]\n",
    "    coords += displacement_field\n",
    "    warped_moving_image_array = map_coordinates(moving_image_array, coords, order=3)\n",
    "    return warped_moving_image_array\n",
    "\n",
    "def display_images(image_array):\n",
    "    ipv.figure()\n",
    "    ipv.volshow(image_array, level=[0.25, 0.75], opacity=0.03, level_width=0.1, data_min=0, data_max=1)\n",
    "    ipv.show()\n",
    "\n",
    "# Paths to the DICOM directories\n",
    "image_directory_path = r\"C:\\Users\\HP\\Documents\\GitHub\\3D-3D_Image_Registration\\SE000003\"\n",
    "\n",
    "# Load the DICOM images\n",
    "dataset = load_data_for_training(image_directory_path)\n",
    "\n",
    "# Initialize the model and optimizer\n",
    "model = VxmDense(inshape=(None, None, None, 1), nb_unet_features=[32, 32, 32, 32])\n",
    "optimizer = Adam(model.parameters())\n",
    "\n",
    "# Train the model\n",
    "num_epochs = 10\n",
    "for epoch in range(num_epochs):\n",
    "    print(f'Starting epoch {epoch + 1}')\n",
    "    for i, (fixed_image, moving_image) in enumerate(dataset):\n",
    "        optimizer.zero_grad()\n",
    "        y_pred, _ = model([fixed_image.float().unsqueeze(0), moving_image.float().unsqueeze(0)])\n",
    "        loss = torch.nn.MSELoss()(y_pred, fixed_image.float().unsqueeze(0))\n",
    "        loss.backward()\n",
    "        optimizer.step()\n",
    "\n",
    "# Save the model\n",
    "model_save_path = r\"C:\\Users\\HP\\Documents\\GitHub\\3D-3D_Image_Registration\\SE000003\\model.pth\"\n",
    "torch.save(model.state_dict(), model_save_path)\n",
    "\n",
    "# Load the model and apply it to a pair of images for visualization\n",
    "model.load_state_dict(torch.load(model_save_path))\n",
    "\n",
    "# Choose a pair of images to register and visualize\n",
    "fixed_image_tensor, moving_image_tensor = dataset[0]  # Change index if necessary\n",
    "\n",
    "# Compute the displacement field\n",
    "displacement_field, _ = model([fixed_image_tensor.float().unsqueeze(0), moving_image_tensor.float().unsqueeze(0)])\n",
    "\n",
    "# Convert displacement field back to numpy\n",
    "displacement_field = displacement_field.detach().numpy()\n",
    "\n",
    "# Apply displacement field to moving image\n",
    "warped_moving_image_array = apply_displacement_field(moving_image_tensor.numpy(), displacement_field)\n",
    "\n",
    "# Display the images after transformation\n",
    "display_images(fixed_image_tensor.numpy().squeeze())\n",
    "display_images(warped_moving_image_array.squeeze())\n"
   ]
  },
  {
   "cell_type": "code",
   "execution_count": 4,
   "metadata": {},
   "outputs": [
    {
     "name": "stderr",
     "output_type": "stream",
     "text": [
      "ERROR: Could not find a version that satisfies the requirement voxelmorph.pytorch (from versions: none)\n",
      "ERROR: No matching distribution found for voxelmorph.pytorch\n",
      "\n",
      "[notice] A new release of pip is available: 23.0 -> 23.1.2\n",
      "[notice] To update, run: C:\\Users\\HP\\AppData\\Local\\Microsoft\\WindowsApps\\PythonSoftwareFoundation.Python.3.10_qbz5n2kfra8p0\\python.exe -m pip install --upgrade pip\n"
     ]
    }
   ],
   "source": [
    "!pip install voxelmorph.pytorch"
   ]
  },
  {
   "cell_type": "code",
   "execution_count": null,
   "metadata": {},
   "outputs": [],
   "source": []
  }
 ],
 "metadata": {
  "kernelspec": {
   "display_name": "Python 3",
   "language": "python",
   "name": "python3"
  },
  "language_info": {
   "codemirror_mode": {
    "name": "ipython",
    "version": 3
   },
   "file_extension": ".py",
   "mimetype": "text/x-python",
   "name": "python",
   "nbconvert_exporter": "python",
   "pygments_lexer": "ipython3",
   "version": "3.10.11"
  },
  "orig_nbformat": 4
 },
 "nbformat": 4,
 "nbformat_minor": 2
}
