{
  "cells": [
    {
      "cell_type": "markdown",
      "metadata": {
        "id": "view-in-github",
        "colab_type": "text"
      },
      "source": [
        "<a href=\"https://colab.research.google.com/github/OgbondaGlory/3D-3D_Image_Registration/blob/main/Copy_of_Deformable_Image_Registration.ipynb\" target=\"_parent\"><img src=\"https://colab.research.google.com/assets/colab-badge.svg\" alt=\"Open In Colab\"/></a>"
      ]
    },
    {
      "cell_type": "code",
      "source": [
        "from psutil import virtual_memory\n",
        "ram_gb = virtual_memory().total / 1e9\n",
        "print('Your runtime has {:.1f} gigabytes of available RAM\\n'.format(ram_gb))\n",
        "\n",
        "if ram_gb < 20:\n",
        "  print('Not using a high-RAM runtime')\n",
        "else:\n",
        "  print('You are using a high-RAM runtime!')"
      ],
      "metadata": {
        "id": "qBoXSeq7_Zqb",
        "outputId": "80fba026-6de8-4464-b6a8-b0079aa36a53",
        "colab": {
          "base_uri": "https://localhost:8080/"
        }
      },
      "execution_count": 6,
      "outputs": [
        {
          "output_type": "stream",
          "name": "stdout",
          "text": [
            "Your runtime has 89.6 gigabytes of available RAM\n",
            "\n",
            "You are using a high-RAM runtime!\n"
          ]
        }
      ]
    },
    {
      "cell_type": "code",
      "source": [
        "!pip install pydicom"
      ],
      "metadata": {
        "colab": {
          "base_uri": "https://localhost:8080/"
        },
        "id": "egnkI_NRJKLq",
        "outputId": "2b4e2d2d-630a-4e70-c033-5dd613361107"
      },
      "execution_count": 5,
      "outputs": [
        {
          "output_type": "stream",
          "name": "stdout",
          "text": [
            "Collecting pydicom\n",
            "  Downloading pydicom-2.4.1-py3-none-any.whl (1.8 MB)\n",
            "\u001b[?25l     \u001b[90m━━━━━━━━━━━━━━━━━━━━━━━━━━━━━━━━━━━━━━━━\u001b[0m \u001b[32m0.0/1.8 MB\u001b[0m \u001b[31m?\u001b[0m eta \u001b[36m-:--:--\u001b[0m\r\u001b[2K     \u001b[91m━━━━━━━━━━━━━━━━━━━━━━━\u001b[0m\u001b[91m╸\u001b[0m\u001b[90m━━━━━━━━━━━━━━━━\u001b[0m \u001b[32m1.0/1.8 MB\u001b[0m \u001b[31m137.5 MB/s\u001b[0m eta \u001b[36m0:00:01\u001b[0m\r\u001b[2K     \u001b[90m━━━━━━━━━━━━━━━━━━━━━━━━━━━━━━━━━━━━━━━━\u001b[0m \u001b[32m1.8/1.8 MB\u001b[0m \u001b[31m32.5 MB/s\u001b[0m eta \u001b[36m0:00:00\u001b[0m\n",
            "\u001b[?25hInstalling collected packages: pydicom\n",
            "Successfully installed pydicom-2.4.1\n"
          ]
        }
      ]
    },
    {
      "cell_type": "code",
      "execution_count": null,
      "metadata": {
        "id": "Cj_0ejGh75EJ",
        "outputId": "547ea92e-ac6e-4d94-99d6-e79dd68098e1",
        "colab": {
          "base_uri": "https://localhost:8080/"
        }
      },
      "outputs": [
        {
          "output_type": "stream",
          "name": "stdout",
          "text": [
            "['CT000353', 'CT000267', 'CT000195', 'CT000214', 'CT000094', 'CT000058', 'CT000021', 'CT000229', 'CT000205', 'CT000196', 'CT000347', 'CT000206', 'CT000341', 'CT000334', 'CT000111', 'CT000344', 'CT000317', 'CT000163', 'CT000337', 'CT000339', 'CT000350', 'CT000256', 'CT000177', 'CT000015', 'CT000210', 'CT000262', 'CT000008', 'CT000293', 'CT000201', 'CT000271', 'CT000323', 'CT000007', 'CT000274', 'CT000150', 'CT000328', 'CT000187', 'CT000127', 'CT000368', 'CT000166', 'CT000285', 'CT000033', 'CT000270', 'CT000189', 'CT000084', 'CT000194', 'CT000114', 'CT000057', 'CT000246', 'CT000112', 'CT000055', 'CT000100', 'CT000167', 'CT000359', 'CT000222', 'CT000379', 'CT000157', 'CT000237', 'CT000265', 'CT000226', 'CT000362', 'CT000118', 'CT000296', 'CT000386', 'CT000051', 'CT000234', 'CT000018', 'CT000298', 'CT000380', 'CT000221', 'CT000292', 'CT000067', 'CT000314', 'CT000272', 'CT000273', 'CT000160', 'CT000048', 'CT000331', 'CT000355', 'CT000028', 'CT000240', 'CT000014', 'CT000185', 'CT000178', 'CT000315', 'CT000316', 'CT000215', 'CT000120', 'CT000032', 'CT000176', 'CT000020', 'CT000036', 'CT000003', 'CT000260', 'CT000313', 'CT000159', 'CT000204', 'CT000325', 'CT000108', 'CT000375', 'CT000327', 'CT000115', 'CT000224', 'CT000250', 'CT000041', 'CT000009', 'CT000255', 'CT000031', 'CT000209', 'CT000356', 'CT000139', 'CT000074', 'CT000119', 'CT000087', 'CT000142', 'CT000125', 'CT000109', 'CT000025', 'CT000243', 'CT000318', 'CT000040', 'CT000099', 'CT000319', 'CT000144', 'CT000304', 'CT000382', 'CT000200', 'CT000132', 'CT000279', 'CT000103', 'CT000266', 'CT000291', 'CT000263', 'CT000080', 'CT000207', 'CT000131', 'CT000027', 'CT000286', 'CT000075', 'CT000152', 'CT000235', 'CT000019', 'CT000348', 'CT000077', 'CT000227', 'CT000126', 'CT000369', 'CT000000', 'CT000239', 'CT000170', 'CT000342', 'CT000277', 'CT000338', 'CT000158', 'CT000145', 'CT000245', 'CT000343', 'CT000130', 'CT000261', 'CT000395', 'CT000172', 'CT000301', 'CT000175', 'CT000320', 'CT000257', 'CT000079', 'CT000230', 'CT000218', 'CT000164', 'CT000251', 'CT000309', 'CT000365', 'CT000254', 'CT000083', 'CT000203', 'CT000289', 'CT000357', 'CT000148', 'CT000059', 'CT000106', 'CT000129', 'CT000333', 'CT000244', 'CT000307', 'CT000154', 'CT000136', 'CT000208', 'CT000081', 'CT000068', 'CT000143', 'CT000190', 'CT000295', 'CT000173', 'CT000093', 'CT000202', 'CT000198', 'CT000141', 'CT000107', 'CT000306', 'CT000278', 'CT000135', 'CT000397', 'CT000062', 'CT000186', 'CT000364', 'CT000351', 'CT000146', 'CT000297', 'CT000063', 'CT000300', 'CT000373', 'CT000052', 'CT000060', 'CT000095', 'CT000393', 'CT000181', 'CT000367', 'CT000180', 'CT000248', 'CT000088', 'CT000324', 'CT000061', 'CT000283', 'CT000281', 'CT000363', 'CT000238', 'CT000385', 'CT000387', 'CT000370', 'CT000216', 'CT000012', 'CT000211', 'CT000043', 'CT000374', 'CT000212', 'CT000092', 'CT000078', 'CT000010', 'CT000086', 'CT000241', 'CT000383', 'CT000110', 'CT000340', 'CT000268', 'CT000242', 'CT000124', 'CT000122', 'CT000137', 'CT000161', 'CT000376', 'CT000004', 'CT000046', 'CT000335', 'CT000042', 'CT000311', 'CT000038', 'CT000022', 'CT000349', 'CT000231', 'CT000321', 'CT000128', 'CT000165', 'CT000035', 'CT000123', 'CT000056', 'CT000039', 'CT000258', 'CT000013', 'CT000399', 'CT000071', 'CT000249', 'CT000346', 'CT000329', 'CT000047', 'CT000223', 'CT000098', 'CT000336', 'CT000354', 'CT000105', 'CT000232', 'CT000072', 'CT000259', 'CT000133', 'CT000162', 'CT000264', 'CT000065', 'CT000253', 'CT000016', 'CT000360', 'CT000389', 'CT000153', 'CT000121', 'CT000149', 'CT000366', 'CT000398', 'CT000174', 'CT000236', 'CT000171', 'CT000138', 'CT000193', 'CT000372', 'CT000220', 'CT000005', 'CT000287', 'CT000391', 'CT000050', 'CT000091', 'CT000076', 'CT000330', 'CT000252', 'CT000308', 'CT000392', 'CT000023', 'CT000045', 'CT000199', 'CT000290', 'CT000053', 'CT000188', 'CT000294', 'CT000117', 'CT000276', 'CT000228', 'CT000029', 'CT000303', 'CT000322', 'CT000394', 'CT000064', 'CT000345', 'CT000280', 'CT000156', 'CT000089', 'CT000155', 'CT000371', 'CT000017', 'CT000217', 'CT000377', 'CT000361', 'CT000140', 'CT000179', 'CT000085', 'CT000390', 'CT000282', 'CT000288', 'CT000102', 'CT000381', 'CT000197', 'CT000024', 'CT000002', 'CT000066', 'CT000116', 'CT000275', 'CT000384', 'CT000168', 'CT000090', 'CT000101', 'CT000147', 'CT000069', 'CT000192', 'CT000070', 'CT000219', 'CT000358', 'CT000332', 'CT000233', 'CT000030', 'CT000284', 'CT000184', 'CT000352', 'CT000302', 'CT000183', 'CT000082', 'CT000169', 'CT000247', 'CT000326', 'CT000396', 'CT000388', 'CT000213', 'CT000006', 'CT000378', 'CT000073', 'CT000182', 'CT000049', 'CT000096', 'CT000191', 'CT000269', 'CT000113', 'CT000011', 'CT000044', 'CT000001', 'CT000134', 'CT000054', 'CT000305', 'CT000225', 'CT000151', 'CT000104', 'CT000034', 'CT000310', 'CT000312', 'CT000026', 'CT000097', 'CT000299', 'CT000037', 'CT000421', 'CT000424', 'CT000404', 'CT000412', 'CT000423', 'CT000407', 'CT000415', 'CT000414', 'CT000403', 'CT000400', 'CT000413', 'CT000416', 'CT000406', 'CT000419', 'CT000402', 'CT000405', 'CT000408', 'CT000422', 'CT000418', 'CT000411', 'CT000420', 'CT000401', 'CT000417', 'CT000425', 'CT000410', 'CT000409']\n"
          ]
        }
      ],
      "source": [
        "import os\n",
        "import numpy as np\n",
        "import pydicom\n",
        "import matplotlib.pyplot as plt\n",
        "import pandas as pd\n",
        "import seaborn as sns\n",
        "import ipyvolume as ipv\n",
        "import SimpleITK as sitk\n",
        "import ipywidgets as widgets\n",
        "\n",
        "# Loading the Data\n",
        "data_path = \"/content/drive/MyDrive/3D-3D_Image_Registration/3D-3D_Image_Registration/SE000003\"\n",
        "\n",
        "# List all files in the directory\n",
        "files = os.listdir(data_path)\n",
        "print(files)\n",
        "\n",
        "def segment_lung(image):\n",
        "    # Apply a threshold to separate lung pixels from others\n",
        "    thresh_filter = sitk.ThresholdImageFilter()\n",
        "    thresh_filter.SetLower(-1000)\n",
        "    thresh_filter.SetUpper(-400)\n",
        "    thresh_img = thresh_filter.Execute(image)\n",
        "\n",
        "    # Apply morphological opening\n",
        "    morph_filter = sitk.BinaryMorphologicalOpeningImageFilter()\n",
        "    morph_img = morph_filter.Execute(thresh_img)\n",
        "\n",
        "    # Apply Connected Component Labeling\n",
        "    cc_filter = sitk.ConnectedComponentImageFilter()\n",
        "    cc_img = cc_filter.Execute(morph_img)\n",
        "\n",
        "    # Get the two largest components (assumed to be the lungs)\n",
        "    relabel_filter = sitk.RelabelComponentImageFilter()\n",
        "    relabel_img = relabel_filter.Execute(cc_img)\n",
        "\n",
        "    # Get labels array\n",
        "    labels_array = sitk.GetArrayFromImage(relabel_img)\n",
        "\n",
        "    # Count the number of pixels in each region and sort by size\n",
        "    unique, counts = np.unique(labels_array, return_counts=True)\n",
        "    sorted_counts = sorted(zip(counts, unique), reverse=True)\n",
        "\n",
        "    # Keep the two largest components (excluding background)\n",
        "    lung_mask = np.isin(labels_array, [label for _, label in sorted_counts[1:3]])\n",
        "\n",
        "    # Convert to SimpleITK image for further processing\n",
        "    lung_mask_sitk = sitk.GetImageFromArray(lung_mask.astype(np.uint8))\n",
        "    lung_mask_sitk.CopyInformation(image)\n",
        "\n",
        "    return lung_mask_sitk\n",
        "\n",
        "def segment_bones(image):\n",
        "    # Convert the SimpleITK image to a numpy array\n",
        "    image_array = sitk.GetArrayFromImage(image)\n",
        "\n",
        "    # Use thresholding to identify the bones\n",
        "    # Bones have higher HU than soft tissues or air\n",
        "    # This range might need adjustment depending on the specific scan\n",
        "    bone_threshold = 300\n",
        "    bone_mask = image_array > bone_threshold\n",
        "\n",
        "    # Convert to SimpleITK image for further processing\n",
        "    bone_mask_sitk = sitk.GetImageFromArray(bone_mask.astype(np.uint8))\n",
        "    bone_mask_sitk.CopyInformation(image)\n",
        "\n",
        "    return bone_mask_sitk\n",
        "\n",
        "\n",
        "def load_dicom_series(directory_path):\n",
        "    reader = sitk.ImageSeriesReader()\n",
        "    dicom_names = reader.GetGDCMSeriesFileNames(directory_path)\n",
        "    reader.SetFileNames(dicom_names)\n",
        "    image = reader.Execute()\n",
        "    return image\n",
        "\n",
        "def display_images(image, title, montage_slices=10):\n",
        "    # Convert the SimpleITK image to a numpy array\n",
        "    image_array = sitk.GetArrayFromImage(image)\n",
        "\n",
        "    # Normalize to 0-255\n",
        "    image_array = ((image_array - image_array.min()) * (1/(image_array.max() - image_array.min()) * 255)).astype('uint8')\n",
        "\n",
        "    # 3D visualization using ipyvolume\n",
        "    ipv.figure()\n",
        "    ipv.volshow(image_array, level=[0.25, 0.75], opacity=0.03, level_width=0.1, data_min=0, data_max=255)\n",
        "    fig3d = ipv.gcc()\n",
        "\n",
        "    # Create a layout with a title\n",
        "    title_widget = widgets.HTML(f'<h2>{title} - 3D View</h2>')\n",
        "    layout = widgets.VBox([title_widget, fig3d])\n",
        "    display(layout)\n",
        "\n",
        "    # Montage of slices using matplotlib\n",
        "    fig = plt.figure(figsize=(10, 2))\n",
        "    fig.suptitle(title + \" - Slice View\")\n",
        "    slice_interval = image_array.shape[0] // montage_slices\n",
        "    for i in range(montage_slices):\n",
        "        ax = fig.add_subplot(1, montage_slices, i + 1)\n",
        "        ax.imshow(image_array[i * slice_interval], cmap='gray')\n",
        "        plt.axis('off')\n",
        "    plt.show()\n",
        "\n",
        "\n",
        "# Load the DICOM images\n",
        "ct_image = load_dicom_series(data_path)\n",
        "\n",
        "# Perform lung segmentation\n",
        "lung_mask = segment_lung(ct_image)\n",
        "\n",
        "# Convert the SimpleITK image to a numpy array for visualization\n",
        "lung_mask_array = sitk.GetArrayFromImage(lung_mask)\n",
        "\n",
        "# Display segmented lungs in 3D\n",
        "display_images(lung_mask, \"Segmented Lungs\")\n",
        "\n",
        "\n",
        "\n",
        "# Perform bone segmentation\n",
        "bone_mask = segment_bones(ct_image)\n",
        "\n",
        "## Display the bone segmentation in 3D and slices\n",
        "display_images(bone_mask, \"Segmented Bones\")\n",
        "\n",
        "# Paths to the DICOM directories\n",
        "fixed_image_path = \"/content/drive/MyDrive/3D-3D_Image_Registration/3D-3D_Image_Registration/SE000003\"\n",
        "moving_image_path = \"/content/drive/MyDrive/3D-3D_Image_Registration/3D-3D_Image_Registration/SE000003\"\n",
        "\n",
        "# Load the DICOM images\n",
        "fixed_image = load_dicom_series(fixed_image_path)\n",
        "moving_image = load_dicom_series(moving_image_path)\n",
        "\n",
        "# Display the images with appropriate titles\n",
        "display_images(fixed_image, \"Fixed Image patient's CT scan\")\n",
        "display_images(moving_image, \"Moving Image CT scan of the phantom\")\n",
        "\n",
        "# Apply the transformation\n",
        "registration_method = sitk.ImageRegistrationMethod()\n",
        "registration_method.SetMetricAsMeanSquares()\n",
        "registration_method.SetOptimizerAsGradientDescent(learningRate=1.0, numberOfIterations=100, convergenceMinimumValue=1e-6, convergenceWindowSize=10)\n",
        "registration_method.SetInterpolator(sitk.sitkLinear)\n",
        "\n",
        "initial_transform = sitk.CenteredTransformInitializer(fixed_image,\n",
        "                                                      moving_image,\n",
        "                                                      sitk.Euler3DTransform(),\n",
        "                                                      sitk.CenteredTransformInitializerFilter.GEOMETRY)\n",
        "\n",
        "registration_method.SetInitialTransform(initial_transform, inPlace=False)\n",
        "final_transform_v1 = registration_method.Execute(sitk.Cast(fixed_image, sitk.sitkFloat32),\n",
        "                                                 sitk.Cast(moving_image, sitk.sitkFloat32))\n",
        "\n",
        "# Resample the moving image onto the fixed image's grid\n",
        "resampler = sitk.ResampleImageFilter()\n",
        "resampler.SetReferenceImage(fixed_image)\n",
        "resampler.SetTransform(final_transform_v1)\n",
        "resampled_moving_image = resampler.Execute(moving_image)\n",
        "\n",
        "# Display the images after transformation\n",
        "display_images(fixed_image, \"Fixed Image after Transformation\")\n",
        "display_images(resampled_moving_image, \"Resampled Moving Image after Transformation\")\n"
      ]
    },
    {
      "cell_type": "code",
      "source": [
        "from google.colab import drive\n",
        "drive.mount('/content/drive')"
      ],
      "metadata": {
        "colab": {
          "base_uri": "https://localhost:8080/"
        },
        "id": "fpoQqKr2Kt3L",
        "outputId": "c7d072a1-9482-45ae-c5f1-95935c0e6a48"
      },
      "execution_count": 8,
      "outputs": [
        {
          "output_type": "stream",
          "name": "stdout",
          "text": [
            "Mounted at /content/drive\n"
          ]
        }
      ]
    },
    {
      "cell_type": "markdown",
      "metadata": {
        "id": "MDnjCR9P75EL"
      },
      "source": [
        "______________________"
      ]
    },
    {
      "cell_type": "markdown",
      "metadata": {
        "id": "HjX3y9Ot75EM"
      },
      "source": [
        "## Segmentation of the lungs"
      ]
    },
    {
      "cell_type": "code",
      "execution_count": null,
      "metadata": {
        "id": "saUtz-EK75EM"
      },
      "outputs": [],
      "source": [
        "\n",
        "\n",
        "\n"
      ]
    },
    {
      "cell_type": "code",
      "execution_count": null,
      "metadata": {
        "id": "c7vm06yj75EN"
      },
      "outputs": [],
      "source": []
    }
  ],
  "metadata": {
    "kernelspec": {
      "display_name": "Python 3",
      "name": "python3"
    },
    "language_info": {
      "codemirror_mode": {
        "name": "ipython",
        "version": 3
      },
      "file_extension": ".py",
      "mimetype": "text/x-python",
      "name": "python",
      "nbconvert_exporter": "python",
      "pygments_lexer": "ipython3",
      "version": "3.10.11"
    },
    "orig_nbformat": 4,
    "colab": {
      "provenance": [],
      "machine_shape": "hm",
      "gpuType": "A100",
      "cell_execution_strategy": "setup",
      "include_colab_link": true
    },
    "accelerator": "GPU"
  },
  "nbformat": 4,
  "nbformat_minor": 0
}